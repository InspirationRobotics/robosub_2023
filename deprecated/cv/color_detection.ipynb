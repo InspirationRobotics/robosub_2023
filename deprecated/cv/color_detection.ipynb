{
 "cells": [
  {
   "cell_type": "code",
   "execution_count": 2,
   "id": "c7851c53",
   "metadata": {},
   "outputs": [
    {
     "name": "stdout",
     "output_type": "stream",
     "text": [
      "hellow\n"
     ]
    }
   ],
   "source": [
    "print(\"hellow\")"
   ]
  },
  {
   "cell_type": "code",
   "execution_count": 2,
   "id": "0424cceb",
   "metadata": {},
   "outputs": [
    {
     "ename": "KeyboardInterrupt",
     "evalue": "",
     "output_type": "error",
     "traceback": [
      "\u001b[1;31m---------------------------------------------------------------------------\u001b[0m",
      "\u001b[1;31mKeyboardInterrupt\u001b[0m                         Traceback (most recent call last)",
      "Cell \u001b[1;32mIn[2], line 14\u001b[0m\n\u001b[0;32m     10\u001b[0m L_limit\u001b[38;5;241m=\u001b[39mnp\u001b[38;5;241m.\u001b[39marray([\u001b[38;5;241m8\u001b[39m, \u001b[38;5;241m25\u001b[39m, \u001b[38;5;241m50\u001b[39m]) \n\u001b[0;32m     11\u001b[0m U_limit\u001b[38;5;241m=\u001b[39mnp\u001b[38;5;241m.\u001b[39marray([\u001b[38;5;241m30\u001b[39m, \u001b[38;5;241m255\u001b[39m, \u001b[38;5;241m255\u001b[39m]) \n\u001b[1;32m---> 14\u001b[0m orange\u001b[38;5;241m=\u001b[39m\u001b[43mcv2\u001b[49m\u001b[38;5;241;43m.\u001b[39;49m\u001b[43minRange\u001b[49m\u001b[43m(\u001b[49m\u001b[43minto_hsv\u001b[49m\u001b[43m,\u001b[49m\u001b[43mL_limit\u001b[49m\u001b[43m,\u001b[49m\u001b[43mU_limit\u001b[49m\u001b[43m)\u001b[49m\n\u001b[0;32m     16\u001b[0m kernel \u001b[38;5;241m=\u001b[39m np\u001b[38;5;241m.\u001b[39mones((\u001b[38;5;241m5\u001b[39m, \u001b[38;5;241m5\u001b[39m), np\u001b[38;5;241m.\u001b[39muint8)\n\u001b[0;32m     17\u001b[0m orange \u001b[38;5;241m=\u001b[39m cv2\u001b[38;5;241m.\u001b[39mmorphologyEx(orange, cv2\u001b[38;5;241m.\u001b[39mMORPH_OPEN, kernel)\n",
      "\u001b[1;31mKeyboardInterrupt\u001b[0m: "
     ]
    }
   ],
   "source": [
    "import cv2\n",
    "import numpy as np\n",
    "import matplotlib.pyplot as plt\n",
    "\n",
    "cap = cv2.VideoCapture('bottom_path_SONIA_1_provider_vision_Bottom_GigE_compressed.mp4')\n",
    "\n",
    "while 1: \n",
    "    ret,frame =cap.read() \n",
    "    into_hsv =(cv2.cvtColor(frame,cv2.COLOR_BGR2HSV))\n",
    "    L_limit=np.array([8, 25, 50]) \n",
    "    U_limit=np.array([30, 255, 255]) \n",
    "\n",
    "\n",
    "    orange=cv2.inRange(into_hsv,L_limit,U_limit)\n",
    "\n",
    "    kernel = np.ones((5, 5), np.uint8)\n",
    "    orange = cv2.morphologyEx(orange, cv2.MORPH_OPEN, kernel)\n",
    "\n",
    "    orange = cv2.GaussianBlur(orange, (11,11), 0)\n",
    "    ret, thresh = cv2.threshold(orange, 230, 255, cv2.THRESH_BINARY)\n",
    "\n",
    "    blur = cv2.blur(thresh, (10,10))\n",
    "\n",
    "    ret2, thresh2 = cv2.threshold(blur, 1, 255, cv2.THRESH_OTSU)\n",
    "    contours, heirarchy = cv2.findContours(thresh2, cv2.RETR_TREE, cv2.CHAIN_APPROX_SIMPLE)\n",
    "    edges = cv2.Canny(image=thresh2, threshold1=100, threshold2=200)\n",
    "\n",
    "    c = max(contours, key = cv2.contourArea)\n",
    "    frame = np.zeros_like(frame)\n",
    "    cv2.drawContours(frame, c, -1, 255, 3)\n",
    "#     c_arr = []\n",
    "#     for cnt in c :\n",
    "#         approx = cv2.approxPolyDP(cnt, 0.009 * cv2.arcLength(cnt, True), True)\n",
    "#         n = approx.ravel() \n",
    "#         c_arr.append((n[0], n[1]))\n",
    "\n",
    "    cv2.imshow('Contours', frame)\n",
    "#     print(c_arr)\n",
    "\n",
    "if cv2.waitKey(1)==27:\n",
    "    break\n",
    "\n",
    "cap.release()\n",
    "  \n",
    "cv2.destroyAllWindows()"
   ]
  },
  {
   "cell_type": "code",
   "execution_count": 3,
   "id": "135e7b90",
   "metadata": {},
   "outputs": [
    {
     "ename": "SyntaxError",
     "evalue": "invalid syntax. Perhaps you forgot a comma? (3688340885.py, line 49)",
     "output_type": "error",
     "traceback": [
      "\u001b[1;36m  Cell \u001b[1;32mIn[3], line 49\u001b[1;36m\u001b[0m\n\u001b[1;33m    except rospy.ROS InterruptException:\u001b[0m\n\u001b[1;37m           ^\u001b[0m\n\u001b[1;31mSyntaxError\u001b[0m\u001b[1;31m:\u001b[0m invalid syntax. Perhaps you forgot a comma?\n"
     ]
    }
   ],
   "source": [
    "import sys \n",
    "import rospy \n",
    "import cv2\n",
    "import numpy as np\n",
    "from sensor_msgs.msg import Image\n",
    "from std_msgs.msg import Int64MultiArray, String \n",
    "from cv_bridge import CvBridge, CvBridgeError\n",
    "\n",
    "def detection():\n",
    "    cap = cv2.VideoCapture(0)\n",
    "    _, frame = cap.read()\n",
    "    \n",
    "    into_hsv = (cv2.cvtColor(frame,cv2.COLOR_BGR2HSV))\n",
    "    \n",
    "    L_limit=np.array([8, 25, 50])\n",
    "    U_limit=np.array([30, 255, 255])\n",
    "    orange=cv2.inRange (into_hsv,L_limit,U_limit)\n",
    "    \n",
    "    kernel = np.ones((5, 5), np. uint8)\n",
    "    orange = cv2.morphologyEx(orange, cv2.MORPH_OPEN, kernel)\n",
    "    orange = cv2.GaussianBlur(orange, (11,11), 0)\n",
    "    \n",
    "    ret, thresh = cv2.threshold (orange, 230, 255, cv2.THRESH_BINARY)\n",
    "    blur = cv2.blur(thresh, (10,10))\n",
    "    \n",
    "    ret2, thresh2 = cv2.threshold(blur, 1, 255, cv2.THRESH_OTSU)\n",
    "    contours, heirarchy = cv2.findContours (thresh2, cv2.RETR_TREE, cv2.CHAIN_APPROX_SIMPLE) \n",
    "    \n",
    "    c = max(contours, key = cv2.contourArea)\n",
    "    frame = np.zeros_like(frame)\n",
    "    c_arr = []\n",
    "    for cnt in c :\n",
    "        approx = cv2.approxPolyDP(cnt, 0.009 * cv2.arcLength(cnt, True), True)\n",
    "        n = approx.ravel() \n",
    "        c_arr.append((n[0], n[1]))\n",
    "    \n",
    "    return c_arr\n",
    "                      \n",
    "def main(args):\n",
    "    rospy.init_node('path_mission', anonymous=True)\n",
    "    pub = rospy.Publisher('/auv/cv/path', Int64MultiArray, queue_size=10) \n",
    "    \n",
    "    while not rospy.is_shutdown():\n",
    "        pub.publish(detection())\n",
    "                      \n",
    "if __name__ == '__main__':\n",
    "    try:\n",
    "        main(sys.argv)\n",
    "    except rospy.ROS InterruptException:\n",
    "        break"
   ]
  },
  {
   "cell_type": "code",
   "execution_count": null,
   "id": "dc6a3547",
   "metadata": {},
   "outputs": [],
   "source": []
  }
 ],
 "metadata": {
  "kernelspec": {
   "display_name": "Python 3 (ipykernel)",
   "language": "python",
   "name": "python3"
  },
  "language_info": {
   "codemirror_mode": {
    "name": "ipython",
    "version": 3
   },
   "file_extension": ".py",
   "mimetype": "text/x-python",
   "name": "python",
   "nbconvert_exporter": "python",
   "pygments_lexer": "ipython3",
   "version": "3.10.0"
  }
 },
 "nbformat": 4,
 "nbformat_minor": 5
}
